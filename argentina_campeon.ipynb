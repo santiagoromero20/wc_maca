{
 "cells": [
  {
   "cell_type": "code",
   "execution_count": 1,
   "metadata": {},
   "outputs": [],
   "source": [
    "import pandas as pd"
   ]
  },
  {
   "cell_type": "code",
   "execution_count": 2,
   "metadata": {},
   "outputs": [],
   "source": [
    "data = pd.read_csv(\"data.csv\")\n",
    "group_stats = pd.read_csv(\"group_stats.csv\")"
   ]
  },
  {
   "attachments": {},
   "cell_type": "markdown",
   "metadata": {},
   "source": [
    "Now we should filter the columns of interest.\n",
    "\n",
    "For Data:\n",
    "\n",
    "- match\n",
    "- home_team\n",
    "- away_team\n",
    "- score\n",
    "\n",
    "For Group Stats:\n",
    "\n",
    "- group\n",
    "- team"
   ]
  },
  {
   "cell_type": "code",
   "execution_count": 3,
   "metadata": {},
   "outputs": [
    {
     "data": {
      "text/html": [
       "<div>\n",
       "<style scoped>\n",
       "    .dataframe tbody tr th:only-of-type {\n",
       "        vertical-align: middle;\n",
       "    }\n",
       "\n",
       "    .dataframe tbody tr th {\n",
       "        vertical-align: top;\n",
       "    }\n",
       "\n",
       "    .dataframe thead th {\n",
       "        text-align: right;\n",
       "    }\n",
       "</style>\n",
       "<table border=\"1\" class=\"dataframe\">\n",
       "  <thead>\n",
       "    <tr style=\"text-align: right;\">\n",
       "      <th></th>\n",
       "      <th>match</th>\n",
       "      <th>home_team</th>\n",
       "      <th>away_team</th>\n",
       "      <th>score</th>\n",
       "    </tr>\n",
       "  </thead>\n",
       "  <tbody>\n",
       "    <tr>\n",
       "      <th>0</th>\n",
       "      <td>1</td>\n",
       "      <td>Qatar</td>\n",
       "      <td>Ecuador</td>\n",
       "      <td>0-2</td>\n",
       "    </tr>\n",
       "    <tr>\n",
       "      <th>1</th>\n",
       "      <td>2</td>\n",
       "      <td>England</td>\n",
       "      <td>IR Iran</td>\n",
       "      <td>6-2</td>\n",
       "    </tr>\n",
       "    <tr>\n",
       "      <th>2</th>\n",
       "      <td>3</td>\n",
       "      <td>Senegal</td>\n",
       "      <td>Netherlands</td>\n",
       "      <td>0-2</td>\n",
       "    </tr>\n",
       "    <tr>\n",
       "      <th>3</th>\n",
       "      <td>4</td>\n",
       "      <td>United States</td>\n",
       "      <td>Wales</td>\n",
       "      <td>1-1</td>\n",
       "    </tr>\n",
       "    <tr>\n",
       "      <th>4</th>\n",
       "      <td>5</td>\n",
       "      <td>Argentina</td>\n",
       "      <td>Saudi Arabia</td>\n",
       "      <td>1-2</td>\n",
       "    </tr>\n",
       "    <tr>\n",
       "      <th>...</th>\n",
       "      <td>...</td>\n",
       "      <td>...</td>\n",
       "      <td>...</td>\n",
       "      <td>...</td>\n",
       "    </tr>\n",
       "    <tr>\n",
       "      <th>59</th>\n",
       "      <td>60</td>\n",
       "      <td>England</td>\n",
       "      <td>France</td>\n",
       "      <td>1-2</td>\n",
       "    </tr>\n",
       "    <tr>\n",
       "      <th>60</th>\n",
       "      <td>61</td>\n",
       "      <td>Argentina</td>\n",
       "      <td>Croatia</td>\n",
       "      <td>3-0</td>\n",
       "    </tr>\n",
       "    <tr>\n",
       "      <th>61</th>\n",
       "      <td>62</td>\n",
       "      <td>France</td>\n",
       "      <td>Morocco</td>\n",
       "      <td>2-0</td>\n",
       "    </tr>\n",
       "    <tr>\n",
       "      <th>62</th>\n",
       "      <td>63</td>\n",
       "      <td>Croatia</td>\n",
       "      <td>Morocco</td>\n",
       "      <td>2-1</td>\n",
       "    </tr>\n",
       "    <tr>\n",
       "      <th>63</th>\n",
       "      <td>64</td>\n",
       "      <td>Argentina</td>\n",
       "      <td>France</td>\n",
       "      <td>(4) 3-3 (2)</td>\n",
       "    </tr>\n",
       "  </tbody>\n",
       "</table>\n",
       "<p>64 rows × 4 columns</p>\n",
       "</div>"
      ],
      "text/plain": [
       "    match      home_team     away_team        score\n",
       "0       1          Qatar       Ecuador          0-2\n",
       "1       2        England       IR Iran          6-2\n",
       "2       3        Senegal   Netherlands          0-2\n",
       "3       4  United States         Wales          1-1\n",
       "4       5      Argentina  Saudi Arabia          1-2\n",
       "..    ...            ...           ...          ...\n",
       "59     60        England        France          1-2\n",
       "60     61      Argentina       Croatia          3-0\n",
       "61     62         France       Morocco          2-0\n",
       "62     63        Croatia       Morocco          2-1\n",
       "63     64      Argentina        France  (4) 3-3 (2)\n",
       "\n",
       "[64 rows x 4 columns]"
      ]
     },
     "execution_count": 3,
     "metadata": {},
     "output_type": "execute_result"
    }
   ],
   "source": [
    "data_filter = data[['match', 'home_team', 'away_team', 'score']]\n",
    "data_filter"
   ]
  },
  {
   "cell_type": "code",
   "execution_count": 4,
   "metadata": {},
   "outputs": [
    {
     "data": {
      "text/html": [
       "<div>\n",
       "<style scoped>\n",
       "    .dataframe tbody tr th:only-of-type {\n",
       "        vertical-align: middle;\n",
       "    }\n",
       "\n",
       "    .dataframe tbody tr th {\n",
       "        vertical-align: top;\n",
       "    }\n",
       "\n",
       "    .dataframe thead th {\n",
       "        text-align: right;\n",
       "    }\n",
       "</style>\n",
       "<table border=\"1\" class=\"dataframe\">\n",
       "  <thead>\n",
       "    <tr style=\"text-align: right;\">\n",
       "      <th></th>\n",
       "      <th>group</th>\n",
       "      <th>team</th>\n",
       "    </tr>\n",
       "  </thead>\n",
       "  <tbody>\n",
       "    <tr>\n",
       "      <th>0</th>\n",
       "      <td>1</td>\n",
       "      <td>Netherlands</td>\n",
       "    </tr>\n",
       "    <tr>\n",
       "      <th>1</th>\n",
       "      <td>1</td>\n",
       "      <td>Senegal</td>\n",
       "    </tr>\n",
       "    <tr>\n",
       "      <th>2</th>\n",
       "      <td>1</td>\n",
       "      <td>Ecuador</td>\n",
       "    </tr>\n",
       "    <tr>\n",
       "      <th>3</th>\n",
       "      <td>1</td>\n",
       "      <td>Qatar</td>\n",
       "    </tr>\n",
       "    <tr>\n",
       "      <th>4</th>\n",
       "      <td>2</td>\n",
       "      <td>England</td>\n",
       "    </tr>\n",
       "    <tr>\n",
       "      <th>5</th>\n",
       "      <td>2</td>\n",
       "      <td>United States</td>\n",
       "    </tr>\n",
       "    <tr>\n",
       "      <th>6</th>\n",
       "      <td>2</td>\n",
       "      <td>IR Iran</td>\n",
       "    </tr>\n",
       "    <tr>\n",
       "      <th>7</th>\n",
       "      <td>2</td>\n",
       "      <td>Wales</td>\n",
       "    </tr>\n",
       "    <tr>\n",
       "      <th>8</th>\n",
       "      <td>3</td>\n",
       "      <td>Argentina</td>\n",
       "    </tr>\n",
       "    <tr>\n",
       "      <th>9</th>\n",
       "      <td>3</td>\n",
       "      <td>Poland</td>\n",
       "    </tr>\n",
       "    <tr>\n",
       "      <th>10</th>\n",
       "      <td>3</td>\n",
       "      <td>Mexico</td>\n",
       "    </tr>\n",
       "    <tr>\n",
       "      <th>11</th>\n",
       "      <td>3</td>\n",
       "      <td>Saudi Arabia</td>\n",
       "    </tr>\n",
       "    <tr>\n",
       "      <th>12</th>\n",
       "      <td>4</td>\n",
       "      <td>France</td>\n",
       "    </tr>\n",
       "    <tr>\n",
       "      <th>13</th>\n",
       "      <td>4</td>\n",
       "      <td>Australia</td>\n",
       "    </tr>\n",
       "    <tr>\n",
       "      <th>14</th>\n",
       "      <td>4</td>\n",
       "      <td>Tunisia</td>\n",
       "    </tr>\n",
       "    <tr>\n",
       "      <th>15</th>\n",
       "      <td>4</td>\n",
       "      <td>Denmark</td>\n",
       "    </tr>\n",
       "    <tr>\n",
       "      <th>16</th>\n",
       "      <td>5</td>\n",
       "      <td>Japan</td>\n",
       "    </tr>\n",
       "    <tr>\n",
       "      <th>17</th>\n",
       "      <td>5</td>\n",
       "      <td>Spain</td>\n",
       "    </tr>\n",
       "    <tr>\n",
       "      <th>18</th>\n",
       "      <td>5</td>\n",
       "      <td>Germany</td>\n",
       "    </tr>\n",
       "    <tr>\n",
       "      <th>19</th>\n",
       "      <td>5</td>\n",
       "      <td>Costa Rica</td>\n",
       "    </tr>\n",
       "    <tr>\n",
       "      <th>20</th>\n",
       "      <td>6</td>\n",
       "      <td>Morocco</td>\n",
       "    </tr>\n",
       "    <tr>\n",
       "      <th>21</th>\n",
       "      <td>6</td>\n",
       "      <td>Croatia</td>\n",
       "    </tr>\n",
       "    <tr>\n",
       "      <th>22</th>\n",
       "      <td>6</td>\n",
       "      <td>Belgium</td>\n",
       "    </tr>\n",
       "    <tr>\n",
       "      <th>23</th>\n",
       "      <td>6</td>\n",
       "      <td>Canada</td>\n",
       "    </tr>\n",
       "    <tr>\n",
       "      <th>24</th>\n",
       "      <td>7</td>\n",
       "      <td>Brazil</td>\n",
       "    </tr>\n",
       "    <tr>\n",
       "      <th>25</th>\n",
       "      <td>7</td>\n",
       "      <td>Switzerland</td>\n",
       "    </tr>\n",
       "    <tr>\n",
       "      <th>26</th>\n",
       "      <td>7</td>\n",
       "      <td>Cameroon</td>\n",
       "    </tr>\n",
       "    <tr>\n",
       "      <th>27</th>\n",
       "      <td>7</td>\n",
       "      <td>Serbia</td>\n",
       "    </tr>\n",
       "    <tr>\n",
       "      <th>28</th>\n",
       "      <td>8</td>\n",
       "      <td>Portugal</td>\n",
       "    </tr>\n",
       "    <tr>\n",
       "      <th>29</th>\n",
       "      <td>8</td>\n",
       "      <td>Korea Republic</td>\n",
       "    </tr>\n",
       "    <tr>\n",
       "      <th>30</th>\n",
       "      <td>8</td>\n",
       "      <td>Uruguay</td>\n",
       "    </tr>\n",
       "    <tr>\n",
       "      <th>31</th>\n",
       "      <td>8</td>\n",
       "      <td>Ghana</td>\n",
       "    </tr>\n",
       "  </tbody>\n",
       "</table>\n",
       "</div>"
      ],
      "text/plain": [
       "    group            team\n",
       "0       1     Netherlands\n",
       "1       1         Senegal\n",
       "2       1         Ecuador\n",
       "3       1           Qatar\n",
       "4       2         England\n",
       "5       2   United States\n",
       "6       2         IR Iran\n",
       "7       2           Wales\n",
       "8       3       Argentina\n",
       "9       3          Poland\n",
       "10      3          Mexico\n",
       "11      3    Saudi Arabia\n",
       "12      4          France\n",
       "13      4       Australia\n",
       "14      4         Tunisia\n",
       "15      4         Denmark\n",
       "16      5           Japan\n",
       "17      5           Spain\n",
       "18      5         Germany\n",
       "19      5      Costa Rica\n",
       "20      6         Morocco\n",
       "21      6         Croatia\n",
       "22      6         Belgium\n",
       "23      6          Canada\n",
       "24      7          Brazil\n",
       "25      7     Switzerland\n",
       "26      7        Cameroon\n",
       "27      7          Serbia\n",
       "28      8        Portugal\n",
       "29      8  Korea Republic\n",
       "30      8         Uruguay\n",
       "31      8           Ghana"
      ]
     },
     "execution_count": 4,
     "metadata": {},
     "output_type": "execute_result"
    }
   ],
   "source": [
    "group_stats_filter = group_stats[['group', 'team']]\n",
    "group_stats_filter"
   ]
  },
  {
   "attachments": {},
   "cell_type": "markdown",
   "metadata": {},
   "source": [
    "Shape"
   ]
  },
  {
   "cell_type": "code",
   "execution_count": 5,
   "metadata": {},
   "outputs": [
    {
     "name": "stdout",
     "output_type": "stream",
     "text": [
      "Data shape: (64, 4)\n",
      "Group Stats shape: (32, 2)\n"
     ]
    }
   ],
   "source": [
    "print(\"Data shape:\", data_filter.shape)\n",
    "print(\"Group Stats shape:\", group_stats_filter.shape)"
   ]
  },
  {
   "attachments": {},
   "cell_type": "markdown",
   "metadata": {},
   "source": [
    "Columns and Data Types of each one of them."
   ]
  },
  {
   "cell_type": "code",
   "execution_count": 6,
   "metadata": {},
   "outputs": [
    {
     "name": "stdout",
     "output_type": "stream",
     "text": [
      "<class 'pandas.core.frame.DataFrame'>\n",
      "RangeIndex: 64 entries, 0 to 63\n",
      "Data columns (total 4 columns):\n",
      " #   Column     Non-Null Count  Dtype \n",
      "---  ------     --------------  ----- \n",
      " 0   match      64 non-null     int64 \n",
      " 1   home_team  64 non-null     object\n",
      " 2   away_team  64 non-null     object\n",
      " 3   score      64 non-null     object\n",
      "dtypes: int64(1), object(3)\n",
      "memory usage: 2.1+ KB\n"
     ]
    }
   ],
   "source": [
    "data_filter.info()"
   ]
  },
  {
   "cell_type": "code",
   "execution_count": 7,
   "metadata": {},
   "outputs": [
    {
     "name": "stdout",
     "output_type": "stream",
     "text": [
      "<class 'pandas.core.frame.DataFrame'>\n",
      "RangeIndex: 32 entries, 0 to 31\n",
      "Data columns (total 2 columns):\n",
      " #   Column  Non-Null Count  Dtype \n",
      "---  ------  --------------  ----- \n",
      " 0   group   32 non-null     int64 \n",
      " 1   team    32 non-null     object\n",
      "dtypes: int64(1), object(1)\n",
      "memory usage: 640.0+ bytes\n"
     ]
    }
   ],
   "source": [
    "group_stats_filter.info()"
   ]
  },
  {
   "attachments": {},
   "cell_type": "markdown",
   "metadata": {},
   "source": [
    "Extractor de Goles\n",
    "\n",
    "Haga una función que reciba un string que contenga la información de los goles de un partido (por ejemplo un empate de 1 a 1, con resultado de penales de 1 a 3, sería el string \"(1) 1-1 (3)\") y devuelva 4 valores (atención a qué tipo de dato deberían ser estos cuatro valores):\n",
    "\n",
    "- goles home: cantidad de goles del equipo \"home\"\n",
    "- goles away: cantidad de goles del equipo \"away\"\n",
    "- penales home: cantidad de penales del equipo \"home\". En caso de no haber penales debe ser 0.\n",
    "- penales away: cantidad de penales del equipo \"away\". En caso de no haber penales debe ser 0\n"
   ]
  },
  {
   "cell_type": "code",
   "execution_count": null,
   "metadata": {},
   "outputs": [],
   "source": [
    "import re"
   ]
  },
  {
   "cell_type": "code",
   "execution_count": 8,
   "metadata": {},
   "outputs": [],
   "source": [
    "def extract_wo_penalties(result):\n",
    "    goles_home, goles_away = result.split('-')   \n",
    "    penales_home = 0\n",
    "    penales_away = 0\n",
    "    return int(goles_home), int(goles_away), penales_home, penales_away "
   ]
  },
  {
   "cell_type": "code",
   "execution_count": 10,
   "metadata": {},
   "outputs": [],
   "source": [
    "def extract_penalties(result):\n",
    "    penalties = re.findall(r'\\((\\d+)\\)', result)\n",
    "    goals = re.findall(r'\\d+', result)\n",
    "    \n",
    "    penales_home = int(penalties[0])\n",
    "    penales_away = int(penalties[1])\n",
    "    goles_home = int(goals[1])\n",
    "    goles_away = int(goals[2])\n",
    "\n",
    "    return goles_home, goles_away, penales_home, penales_away"
   ]
  },
  {
   "cell_type": "code",
   "execution_count": 11,
   "metadata": {},
   "outputs": [],
   "source": [
    "def goals_extractor(result: str) -> tuple:\n",
    "    \n",
    "    if len(result) > 3:\n",
    "        output = extract_penalties(result)\n",
    "    else:\n",
    "        output = extract_wo_penalties(result)\n",
    "\n",
    "    return output"
   ]
  },
  {
   "cell_type": "code",
   "execution_count": 12,
   "metadata": {},
   "outputs": [
    {
     "name": "stdout",
     "output_type": "stream",
     "text": [
      "0-2\n",
      "(4) 3-3 (2)\n"
     ]
    }
   ],
   "source": [
    "#Example of input of the function\n",
    "res_wo_pen = data_filter[\"score\"][0]\n",
    "res_pen = data_filter[\"score\"][63]\n",
    "\n",
    "print(res_wo_pen)\n",
    "print(res_pen)"
   ]
  },
  {
   "cell_type": "code",
   "execution_count": 13,
   "metadata": {},
   "outputs": [
    {
     "name": "stdout",
     "output_type": "stream",
     "text": [
      "(0, 2, 0, 0)\n",
      "(3, 3, 4, 2)\n"
     ]
    }
   ],
   "source": [
    "goals_extracted   =  goals_extractor(res_wo_pen)\n",
    "goals_extracted_0 =  goals_extractor(res_pen)\n",
    "\n",
    "print(goals_extracted )\n",
    "print(goals_extracted_0)"
   ]
  },
  {
   "attachments": {},
   "cell_type": "markdown",
   "metadata": {},
   "source": [
    "The order is goles_home, goles_away, penales_home, penales_away"
   ]
  },
  {
   "attachments": {},
   "cell_type": "markdown",
   "metadata": {},
   "source": [
    "\n",
    "Haga una función que reciba el nombre de un archivo (Puede usar \"datos.csv\" como prueba, pero al abrir el archivo deberá agregar encoding='utf8' para poder leer texto con tildes) y devuelva un diccionario. En este diccionario, cada llave será el nombre de un país, y el valor asociado a cada una será otro diccionario. Cada uno de estos diccionarios debe tener la información de los goles totales convertidos por el país a lo largo de todo mundial, puntos obtenidos en la fase de grupos, y ranking final.\n",
    "\n",
    "Donde p0 es el puntaje al principio de la fase de grupos (todos 0), p1 el puntaje después del primer partido, p2 del segundo y p3 del tercero. Para calcular estos puntajes deberá utilizar la información de los partidos del archivo, pero tenga en cuenta que el archivo contiene información de los partidos que vienen luego de la fase de grupos. Considere que:\n",
    "\n",
    "- Partido ganado = +3 puntos\n",
    "- Partido perdido = +0 puntos \n",
    "- Partido empatado = +1 punto\n",
    "\n",
    "El ranking final será simplemente un valor numérico que indica la posición final del país en el mundial, la cual vale 1, 2, 3 o 4 para los equipos que quedaron en los primeros cuatro puestos, y el valor 0 en cualquier otro caso (fuera del podio, no hay un orden de posiciones)."
   ]
  },
  {
   "attachments": {},
   "cell_type": "markdown",
   "metadata": {},
   "source": [
    "I am going to pass directly the df, as I have already \"bring\" that file. The main function is file_to_dict()."
   ]
  },
  {
   "cell_type": "code",
   "execution_count": 14,
   "metadata": {},
   "outputs": [],
   "source": [
    "def get_goals(data):\n",
    "\n",
    "    #Generate goal columns\n",
    "    for i, column in data.iterrows():\n",
    "        #Generate two new columns with the away and home goals\n",
    "        score = data.loc[i, 'score']\n",
    "        goles_home, goles_away, penales_home, penales_away =  goals_extractor(score)\n",
    "        data.loc[i, \"home_goal\"] = goles_home + penales_home\n",
    "        data.loc[i, \"away_goal\"] = goles_away + penales_away\n",
    "\n",
    "    #Generate goal dictionaries per team\n",
    "    goals_dict = {}\n",
    "\n",
    "    # Iterate over each row in the DataFrame\n",
    "    for index, row in data.iterrows():\n",
    "        home_team = row['home_team']\n",
    "        away_team = row['away_team']\n",
    "        home_goals = row['home_goal']\n",
    "        away_goals = row['away_goal']\n",
    "\n",
    "        # Update the goal count for home team\n",
    "        if home_team in goals_dict:\n",
    "            goals_dict[home_team] += home_goals\n",
    "        else:\n",
    "            goals_dict[home_team] = home_goals\n",
    "\n",
    "        # Update the goal count for away team\n",
    "        if away_team in goals_dict:\n",
    "            goals_dict[away_team] += away_goals\n",
    "        else:\n",
    "            goals_dict[away_team] = away_goals\n",
    "\n",
    "    #Generate a df of the goals per team\n",
    "    new_data = {'team': list(goals_dict.keys()), 'goals': list(goals_dict.values())}\n",
    "    new_df = pd.DataFrame(new_data)\n",
    "\n",
    "    return new_df"
   ]
  },
  {
   "cell_type": "code",
   "execution_count": 15,
   "metadata": {},
   "outputs": [],
   "source": [
    "def calculate_points(goals_for, goals_against):\n",
    "    if goals_for > goals_against:\n",
    "        return 3\n",
    "    elif goals_for == goals_against:\n",
    "        return 1\n",
    "    else:\n",
    "        return 0"
   ]
  },
  {
   "cell_type": "code",
   "execution_count": 16,
   "metadata": {},
   "outputs": [],
   "source": [
    "def calculate_total_points(data):\n",
    "\n",
    "    # Filas de interes\n",
    "    selected_data = data.iloc[:48]\n",
    "\n",
    "    # Crear un diccionario para almacenar los puntos de cada equipo\n",
    "    team_points = {}\n",
    "\n",
    "    # Iterar sobre cada fila del DataFrame\n",
    "    for index, row in selected_data.iterrows():\n",
    "        home_team = row['home_team']\n",
    "        away_team = row['away_team']\n",
    "        home_goal = row['home_goal']\n",
    "        away_goal = row['away_goal']\n",
    "\n",
    "        # Calcular los puntos para el equipo de casa\n",
    "        if home_team in team_points:\n",
    "            team_points[home_team] += calculate_points(home_goal, away_goal)\n",
    "        else:\n",
    "            team_points[home_team] = calculate_points(home_goal, away_goal)\n",
    "\n",
    "        # Calcular los puntos para el equipo visitante\n",
    "        if away_team in team_points:\n",
    "            team_points[away_team] += calculate_points(away_goal, home_goal)\n",
    "        else:\n",
    "            team_points[away_team] = calculate_points(away_goal, home_goal)\n",
    "\n",
    "    # Convertir el diccionario en un DataFrame\n",
    "    result_df = pd.DataFrame({'team': list(team_points.keys()), 'points': list(team_points.values())})\n",
    "\n",
    "    return result_df\n"
   ]
  },
  {
   "cell_type": "code",
   "execution_count": 17,
   "metadata": {},
   "outputs": [],
   "source": [
    "def winner_looser(row):\n",
    "    if row[\"home_goal\"] > row[\"away_goal\"]:\n",
    "        winner, looser = row[\"home_team\"], row[\"away_team\"]\n",
    "\n",
    "    return winner, looser"
   ]
  },
  {
   "cell_type": "code",
   "execution_count": 18,
   "metadata": {},
   "outputs": [],
   "source": [
    "def rankings(data):\n",
    "\n",
    "    podium_matches = data.iloc[-2:]\n",
    "    podium = []\n",
    "\n",
    "    #3rd position\n",
    "    c, d = winner_looser(podium_matches.loc[62])\n",
    "    podium.append(d)\n",
    "    podium.append(c)\n",
    "\n",
    "    #final\n",
    "    a, b = winner_looser(podium_matches.loc[63])\n",
    "    podium.append(b)\n",
    "    podium.append(a)\n",
    "\n",
    "    pod_dict = {}\n",
    "    for i in range(len(podium)):\n",
    "        pod_dict[str(podium[i])] = len(podium) - i\n",
    "\n",
    "    # Convert dictionary to dataframe\n",
    "    df = pd.DataFrame.from_dict(pod_dict, orient='index', columns=['rankings'])\n",
    "\n",
    "    # Add a column for the keys\n",
    "    df.reset_index(inplace=True)\n",
    "    df.columns = ['team', 'rankings']\n",
    "    \n",
    "    return df"
   ]
  },
  {
   "cell_type": "code",
   "execution_count": 19,
   "metadata": {},
   "outputs": [],
   "source": [
    "def file_to_dict(data):\n",
    "\n",
    "    goals = get_goals(data)\n",
    "    points = calculate_total_points(data)\n",
    "    ranks = rankings(data)\n",
    "    \n",
    "    #Combine all df into one\n",
    "    merged_df = pd.merge(goals, points, on=\"team\")\n",
    "\n",
    "    # Merge the \"merged_df\" with the \"ranks\" dataframe based on the \"team\" column\n",
    "    final_df = pd.merge(merged_df, ranks, on=\"team\", how=\"outer\").fillna(0)\n",
    "\n",
    "    # Create an empty dictionary to store the teams\n",
    "    teams = {}\n",
    "\n",
    "    # Iterate over each row in the dataframe\n",
    "    for index, row in final_df.iterrows():\n",
    "        team_data = {}  # Sub-dictionary for each team\n",
    "        team_data[\"goals\"] = row[\"goals\"]\n",
    "        team_data[\"points\"] = row[\"points\"]\n",
    "        team_data[\"rankings\"] = row[\"rankings\"]\n",
    "        teams[row[\"team\"]] = team_data\n",
    "    \n",
    "    return teams"
   ]
  },
  {
   "cell_type": "code",
   "execution_count": 20,
   "metadata": {},
   "outputs": [
    {
     "data": {
      "text/plain": [
       "{'Qatar': {'goals': 1.0, 'points': 0, 'rankings': 0.0},\n",
       " 'Ecuador': {'goals': 4.0, 'points': 4, 'rankings': 0.0},\n",
       " 'England': {'goals': 13.0, 'points': 7, 'rankings': 0.0},\n",
       " 'IR Iran': {'goals': 4.0, 'points': 3, 'rankings': 0.0},\n",
       " 'Senegal': {'goals': 5.0, 'points': 6, 'rankings': 0.0},\n",
       " 'Netherlands': {'goals': 13.0, 'points': 7, 'rankings': 0.0},\n",
       " 'United States': {'goals': 3.0, 'points': 5, 'rankings': 0.0},\n",
       " 'Wales': {'goals': 1.0, 'points': 1, 'rankings': 0.0},\n",
       " 'Argentina': {'goals': 23.0, 'points': 6, 'rankings': 1.0},\n",
       " 'Saudi Arabia': {'goals': 3.0, 'points': 3, 'rankings': 0.0},\n",
       " 'Denmark': {'goals': 1.0, 'points': 1, 'rankings': 0.0},\n",
       " 'Tunisia': {'goals': 1.0, 'points': 4, 'rankings': 0.0},\n",
       " 'Mexico': {'goals': 2.0, 'points': 4, 'rankings': 0.0},\n",
       " 'Poland': {'goals': 3.0, 'points': 4, 'rankings': 0.0},\n",
       " 'France': {'goals': 18.0, 'points': 6, 'rankings': 2.0},\n",
       " 'Australia': {'goals': 4.0, 'points': 6, 'rankings': 0.0},\n",
       " 'Morocco': {'goals': 9.0, 'points': 7, 'rankings': 4.0},\n",
       " 'Croatia': {'goals': 15.0, 'points': 5, 'rankings': 3.0},\n",
       " 'Germany': {'goals': 6.0, 'points': 4, 'rankings': 0.0},\n",
       " 'Japan': {'goals': 6.0, 'points': 6, 'rankings': 0.0},\n",
       " 'Spain': {'goals': 9.0, 'points': 4, 'rankings': 0.0},\n",
       " 'Costa Rica': {'goals': 3.0, 'points': 3, 'rankings': 0.0},\n",
       " 'Belgium': {'goals': 1.0, 'points': 4, 'rankings': 0.0},\n",
       " 'Canada': {'goals': 2.0, 'points': 0, 'rankings': 0.0},\n",
       " 'Switzerland': {'goals': 5.0, 'points': 6, 'rankings': 0.0},\n",
       " 'Cameroon': {'goals': 4.0, 'points': 4, 'rankings': 0.0},\n",
       " 'Uruguay': {'goals': 2.0, 'points': 4, 'rankings': 0.0},\n",
       " 'Korea Republic': {'goals': 5.0, 'points': 4, 'rankings': 0.0},\n",
       " 'Portugal': {'goals': 12.0, 'points': 6, 'rankings': 0.0},\n",
       " 'Ghana': {'goals': 5.0, 'points': 3, 'rankings': 0.0},\n",
       " 'Brazil': {'goals': 10.0, 'points': 6, 'rankings': 0.0},\n",
       " 'Serbia': {'goals': 5.0, 'points': 1, 'rankings': 0.0}}"
      ]
     },
     "execution_count": 20,
     "metadata": {},
     "output_type": "execute_result"
    }
   ],
   "source": [
    "wc_dict = file_to_dict(data_filter.copy())\n",
    "wc_dict"
   ]
  },
  {
   "attachments": {},
   "cell_type": "markdown",
   "metadata": {},
   "source": [
    "Agregar datos\n",
    "\n",
    "Haga una función que reciba el nombre de un archivo que contenga información de los grupos (use \"group_stats.csv\" para probar su código) y el diccionario que creo anteriormente, y le agregue a cada país el grupo al cual pertenece agregando otra clave y valor al diccionario de cada país."
   ]
  },
  {
   "cell_type": "code",
   "execution_count": 21,
   "metadata": {},
   "outputs": [],
   "source": [
    "def add_data(data, wc_dict):\n",
    "    \n",
    "    # Add the group subkey to the data dictionary\n",
    "    for _, row in data.iterrows():\n",
    "        team = row['team']\n",
    "        group = row['group']\n",
    "        if team in wc_dict:\n",
    "            wc_dict[team]['group'] = group\n",
    "\n",
    "    return wc_dict"
   ]
  },
  {
   "cell_type": "code",
   "execution_count": 22,
   "metadata": {},
   "outputs": [
    {
     "data": {
      "text/plain": [
       "{'Qatar': {'goals': 1.0, 'points': 0, 'rankings': 0.0, 'group': 1},\n",
       " 'Ecuador': {'goals': 4.0, 'points': 4, 'rankings': 0.0, 'group': 1},\n",
       " 'England': {'goals': 13.0, 'points': 7, 'rankings': 0.0, 'group': 2},\n",
       " 'IR Iran': {'goals': 4.0, 'points': 3, 'rankings': 0.0, 'group': 2},\n",
       " 'Senegal': {'goals': 5.0, 'points': 6, 'rankings': 0.0, 'group': 1},\n",
       " 'Netherlands': {'goals': 13.0, 'points': 7, 'rankings': 0.0, 'group': 1},\n",
       " 'United States': {'goals': 3.0, 'points': 5, 'rankings': 0.0, 'group': 2},\n",
       " 'Wales': {'goals': 1.0, 'points': 1, 'rankings': 0.0, 'group': 2},\n",
       " 'Argentina': {'goals': 23.0, 'points': 6, 'rankings': 1.0, 'group': 3},\n",
       " 'Saudi Arabia': {'goals': 3.0, 'points': 3, 'rankings': 0.0, 'group': 3},\n",
       " 'Denmark': {'goals': 1.0, 'points': 1, 'rankings': 0.0, 'group': 4},\n",
       " 'Tunisia': {'goals': 1.0, 'points': 4, 'rankings': 0.0, 'group': 4},\n",
       " 'Mexico': {'goals': 2.0, 'points': 4, 'rankings': 0.0, 'group': 3},\n",
       " 'Poland': {'goals': 3.0, 'points': 4, 'rankings': 0.0, 'group': 3},\n",
       " 'France': {'goals': 18.0, 'points': 6, 'rankings': 2.0, 'group': 4},\n",
       " 'Australia': {'goals': 4.0, 'points': 6, 'rankings': 0.0, 'group': 4},\n",
       " 'Morocco': {'goals': 9.0, 'points': 7, 'rankings': 4.0, 'group': 6},\n",
       " 'Croatia': {'goals': 15.0, 'points': 5, 'rankings': 3.0, 'group': 6},\n",
       " 'Germany': {'goals': 6.0, 'points': 4, 'rankings': 0.0, 'group': 5},\n",
       " 'Japan': {'goals': 6.0, 'points': 6, 'rankings': 0.0, 'group': 5},\n",
       " 'Spain': {'goals': 9.0, 'points': 4, 'rankings': 0.0, 'group': 5},\n",
       " 'Costa Rica': {'goals': 3.0, 'points': 3, 'rankings': 0.0, 'group': 5},\n",
       " 'Belgium': {'goals': 1.0, 'points': 4, 'rankings': 0.0, 'group': 6},\n",
       " 'Canada': {'goals': 2.0, 'points': 0, 'rankings': 0.0, 'group': 6},\n",
       " 'Switzerland': {'goals': 5.0, 'points': 6, 'rankings': 0.0, 'group': 7},\n",
       " 'Cameroon': {'goals': 4.0, 'points': 4, 'rankings': 0.0, 'group': 7},\n",
       " 'Uruguay': {'goals': 2.0, 'points': 4, 'rankings': 0.0, 'group': 8},\n",
       " 'Korea Republic': {'goals': 5.0, 'points': 4, 'rankings': 0.0, 'group': 8},\n",
       " 'Portugal': {'goals': 12.0, 'points': 6, 'rankings': 0.0, 'group': 8},\n",
       " 'Ghana': {'goals': 5.0, 'points': 3, 'rankings': 0.0, 'group': 8},\n",
       " 'Brazil': {'goals': 10.0, 'points': 6, 'rankings': 0.0, 'group': 7},\n",
       " 'Serbia': {'goals': 5.0, 'points': 1, 'rankings': 0.0, 'group': 7}}"
      ]
     },
     "execution_count": 22,
     "metadata": {},
     "output_type": "execute_result"
    }
   ],
   "source": [
    "new_wc_dict = add_data(group_stats_filter.copy(), wc_dict)\n",
    "new_wc_dict"
   ]
  },
  {
   "attachments": {},
   "cell_type": "markdown",
   "metadata": {},
   "source": [
    "Listas ordenadas\n",
    "\n",
    "Hacer una función que tome un diccionario de diccionarios y una llave deseada, y genere dos listas. La primer lista está compuesta por las llaves del diccionario, (en el caso del diccionario que creamos hasta ahora serían los nombres de los países). La segunda lista contiene el valor que guarda cada sub-diccionario para la llave especificada(para el caso del diccionario anterior podría ser \"goals\" por ejemplo). Ambas listas deben estar ordenadas según los valores de la segunda lista. "
   ]
  },
  {
   "cell_type": "code",
   "execution_count": 23,
   "metadata": {},
   "outputs": [],
   "source": [
    "def generate_sorted_lists(dictionary, key):\n",
    "    # Obtener las claves y valores del subdiccionario especificado por la clave deseada\n",
    "    values = [subdictionary[key] for subdictionary in dictionary.values()]\n",
    "    keys = list(dictionary.keys())\n",
    "\n",
    "    # Ordenar las listas basándose en los valores\n",
    "    sorted_lists = sorted(zip(values, keys))\n",
    "    sorted_values, sorted_keys = zip(*sorted_lists)\n",
    "\n",
    "    return list(sorted_keys), list(sorted_values)"
   ]
  },
  {
   "cell_type": "code",
   "execution_count": 24,
   "metadata": {},
   "outputs": [],
   "source": [
    "a, b = generate_sorted_lists(new_wc_dict, \"goals\")"
   ]
  },
  {
   "cell_type": "code",
   "execution_count": 25,
   "metadata": {},
   "outputs": [
    {
     "data": {
      "text/plain": [
       "['Belgium',\n",
       " 'Denmark',\n",
       " 'Qatar',\n",
       " 'Tunisia',\n",
       " 'Wales',\n",
       " 'Canada',\n",
       " 'Mexico',\n",
       " 'Uruguay',\n",
       " 'Costa Rica',\n",
       " 'Poland',\n",
       " 'Saudi Arabia',\n",
       " 'United States',\n",
       " 'Australia',\n",
       " 'Cameroon',\n",
       " 'Ecuador',\n",
       " 'IR Iran',\n",
       " 'Ghana',\n",
       " 'Korea Republic',\n",
       " 'Senegal',\n",
       " 'Serbia',\n",
       " 'Switzerland',\n",
       " 'Germany',\n",
       " 'Japan',\n",
       " 'Morocco',\n",
       " 'Spain',\n",
       " 'Brazil',\n",
       " 'Portugal',\n",
       " 'England',\n",
       " 'Netherlands',\n",
       " 'Croatia',\n",
       " 'France',\n",
       " 'Argentina']"
      ]
     },
     "execution_count": 25,
     "metadata": {},
     "output_type": "execute_result"
    }
   ],
   "source": [
    "a"
   ]
  },
  {
   "cell_type": "code",
   "execution_count": 26,
   "metadata": {},
   "outputs": [
    {
     "data": {
      "text/plain": [
       "[1.0,\n",
       " 1.0,\n",
       " 1.0,\n",
       " 1.0,\n",
       " 1.0,\n",
       " 2.0,\n",
       " 2.0,\n",
       " 2.0,\n",
       " 3.0,\n",
       " 3.0,\n",
       " 3.0,\n",
       " 3.0,\n",
       " 4.0,\n",
       " 4.0,\n",
       " 4.0,\n",
       " 4.0,\n",
       " 5.0,\n",
       " 5.0,\n",
       " 5.0,\n",
       " 5.0,\n",
       " 5.0,\n",
       " 6.0,\n",
       " 6.0,\n",
       " 9.0,\n",
       " 9.0,\n",
       " 10.0,\n",
       " 12.0,\n",
       " 13.0,\n",
       " 13.0,\n",
       " 15.0,\n",
       " 18.0,\n",
       " 23.0]"
      ]
     },
     "execution_count": 26,
     "metadata": {},
     "output_type": "execute_result"
    }
   ],
   "source": [
    "b"
   ]
  },
  {
   "attachments": {},
   "cell_type": "markdown",
   "metadata": {},
   "source": [
    "Graficos de Grupos\n",
    "\n",
    "Haga una función que reciba el diccionario y una lista de grupos y grafique (Una figura por grupo) los puntajes cumulativos de cada equipo en cada grupo indicado. Note que el gráfico tiene una leyenda para saber que equipo es que línea, y que las lineas tienen puntos para cada etapa"
   ]
  },
  {
   "cell_type": "code",
   "execution_count": 27,
   "metadata": {},
   "outputs": [],
   "source": [
    "import matplotlib.pyplot as plt"
   ]
  },
  {
   "cell_type": "code",
   "execution_count": 28,
   "metadata": {},
   "outputs": [],
   "source": [
    "def plot_cumulative_scores(data, groups):\n",
    "    for group in groups:\n",
    "        plt.figure()\n",
    "        plt.title(f'Puntajes acumulativos - Grupo {group}')\n",
    "        \n",
    "        for team in data:\n",
    "            if data[team]['group'] == group:\n",
    "                points = data[team]['points']\n",
    "                if isinstance(points, int):  # Verifica si 'points' es un entero\n",
    "                    scores = [0, points]  # Crea una lista con el puntaje acumulativo inicial\n",
    "                else:\n",
    "                    scores = [0]\n",
    "                    for i in range(1, len(points)+1):\n",
    "                        scores.append(scores[i-1] + points[i-1])\n",
    "                \n",
    "                plt.plot(range(len(scores)), scores, label=team, marker='o', linestyle='-')\n",
    "        \n",
    "        plt.xlabel('Etapa')\n",
    "        plt.ylabel('Puntaje acumulativo')\n",
    "        plt.legend(loc='upper left')\n",
    "        plt.grid(True)\n",
    "    \n",
    "    plt.show()"
   ]
  },
  {
   "cell_type": "code",
   "execution_count": 29,
   "metadata": {},
   "outputs": [
    {
     "data": {
      "image/png": "[encoded data removed]",
      "text/plain": [
       "<Figure size 640x480 with 1 Axes>"
      ]
     },
     "metadata": {},
     "output_type": "display_data"
    },
    {
     "data": {
      "image/png": "[encoded data removed]",
      "text/plain": [
       "<Figure size 640x480 with 1 Axes>"
      ]
     },
     "metadata": {},
     "output_type": "display_data"
    }
   ],
   "source": [
    "groups = [1, 2]  \n",
    "plot_cumulative_scores(new_wc_dict, groups)"
   ]
  },
  {
   "attachments": {},
   "cell_type": "markdown",
   "metadata": {},
   "source": [
    "The error on the plot is a consecuence of the one made on the creation of the way of saving the points"
   ]
  },
  {
   "attachments": {},
   "cell_type": "markdown",
   "metadata": {},
   "source": [
    "Guardado de datos\n",
    "\n",
    "Haga una función que guarde el diccionario como un csv, siendo los campos del archivo:\n",
    "\n",
    "- Team: Nombre del país\n",
    "- Goals: Goles totales\n",
    "- Group: Grupo al cual pertenece el equipo\n",
    "- Puntajes fases de grupos\n",
    "- Ranking del equipo en el mundial (0, 1, 2, 3 o 4)\n",
    "\n",
    "Voy a dejar solo los puntajes por arrastrar el error de ejs anteriores."
   ]
  },
  {
   "cell_type": "code",
   "execution_count": 30,
   "metadata": {},
   "outputs": [],
   "source": [
    "def convert_dict_to_csv(dictionary):\n",
    "    # Convertir el diccionario en un dataframe\n",
    "    df = pd.DataFrame.from_dict(dictionary, orient='index')\n",
    "\n",
    "    # Guardar el dataframe como un archivo CSV\n",
    "    df.to_csv('final_df.csv', index_label='team')"
   ]
  },
  {
   "cell_type": "code",
   "execution_count": 31,
   "metadata": {},
   "outputs": [],
   "source": [
    "convert_dict_to_csv(new_wc_dict)"
   ]
  }
 ],
 "metadata": {
  "kernelspec": {
   "display_name": "base",
   "language": "python",
   "name": "python3"
  },
  "language_info": {
   "codemirror_mode": {
    "name": "ipython",
    "version": 3
   },
   "file_extension": ".py",
   "mimetype": "text/x-python",
   "name": "python",
   "nbconvert_exporter": "python",
   "pygments_lexer": "ipython3",
   "version": "3.9.13"
  },
  "orig_nbformat": 4,
  "vscode": {
   "interpreter": {
    "hash": "40d3a090f54c6569ab1632332b64b2c03c39dcf918b08424e98f38b5ae0af88f"
   }
  }
 },
 "nbformat": 4,
 "nbformat_minor": 2
}
